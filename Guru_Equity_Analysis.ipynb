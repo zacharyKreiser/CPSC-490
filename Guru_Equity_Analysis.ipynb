{
 "cells": [
  {
   "cell_type": "code",
   "execution_count": 261,
   "metadata": {},
   "outputs": [],
   "source": [
    "import pandas as pd\n",
    "import numpy as np\n",
    "import requests\n",
    "import statistics\n",
    "from datetime import datetime\n",
    "from dateutil.relativedelta import relativedelta\n",
    "import matplotlib\n",
    "import matplotlib.pyplot as plt\n",
    "import matplotlib.dates as mdates\n",
    "import matplotlib.cbook as cbook\n",
    "import random\n",
    "from sp500_divs import sp500_dividend_yields"
   ]
  },
  {
   "cell_type": "code",
   "execution_count": 262,
   "metadata": {},
   "outputs": [],
   "source": [
    "# Sandbox Key\n",
    "api_key = 'OjgyNDVkYzNmMWIyMTdkNzM3YTYzMDc0MzFhM2U2OTY2'"
   ]
  },
  {
   "cell_type": "code",
   "execution_count": 260,
   "metadata": {},
   "outputs": [],
   "source": [
    "# Production Key\n",
    "# api_key = 'Ojk0OWQyOTYyOTgxZTU4YzA4MjU5NGFmNjY2MjhhODQ2'"
   ]
  },
  {
   "cell_type": "code",
   "execution_count": 135,
   "metadata": {},
   "outputs": [],
   "source": [
    "# Retrieve list of all tickers tracked by Intrinio\n",
    "def get_all_companies():\n",
    "    next_page = ''\n",
    "    companies = {}\n",
    "    while next_page is not None:\n",
    "        request_url = f'https://api-v2.intrinio.com/companies?api_key={api_key}&page_size=100000&next_page={next_page}'\n",
    "        content = requests.get(request_url)\n",
    "        page = content.json()\n",
    "        comps = page['companies']\n",
    "        for c in comps:\n",
    "            companies[c['name']] = c['ticker']\n",
    "        next_page = page['next_page']\n",
    "    return companies"
   ]
  },
  {
   "cell_type": "code",
   "execution_count": 136,
   "metadata": {},
   "outputs": [],
   "source": [
    "# Returns 10 years of values for the specified company and datapoint\n",
    "def get_data_tenyr(identifier, tag, freq='quarterly'):\n",
    "    start_date = get_date()\n",
    "    # Majority of api requests to Intrinio happen here\n",
    "    request_url = f'https://api.intrinio.com/historical_data?frequency={freq}&identifier={identifier}&item={tag}&api_key={api_key}&start_date={start_date}'\n",
    "    content = requests.get(request_url)\n",
    "    return content.json()['data']"
   ]
  },
  {
   "cell_type": "code",
   "execution_count": 138,
   "metadata": {},
   "outputs": [],
   "source": [
    "# Finds the specific datapoint desired from a 10 year list of data\n",
    "# Specifiying n also gives the n values preceding\n",
    "def get_datapoint(data, years_ago, n):\n",
    "    \n",
    "    # Find the data point gathered closest to the desired date\n",
    "    date_yrs_ago = datetime.now() - relativedelta(years=years_ago)\n",
    "    date_yrs_ago = date_yrs_ago.strftime('%Y-%m-%d')\n",
    "    target_date = find_closest(date_yrs_ago, data)\n",
    "    if target_date is None:\n",
    "        return None\n",
    "    \n",
    "    # If data point taken too far from desired date, insuffient data, return None\n",
    "    yr = datetime.now().year\n",
    "    target_yr = int(target_date[:4])\n",
    "    if target_yr not in range(yr - years_ago - 1, yr - years_ago + 2):\n",
    "        return None\n",
    "    \n",
    "    ret = []\n",
    "    for x in range(n):\n",
    "        current_target = str(int(target_date[:4]) - x) + target_date[4:]\n",
    "        current_target_yr = int(current_target[:4])\n",
    "        closest = find_closest(current_target, data)\n",
    "        if int(closest[:4]) not in range(current_target_yr, current_target_yr + 2):\n",
    "            ret += [{'date': current_target, 'value': 'nm'}]\n",
    "        else:\n",
    "            ret += [item for item in data if item['date'] == closest]\n",
    "    \n",
    "    return ret"
   ]
  },
  {
   "cell_type": "code",
   "execution_count": 139,
   "metadata": {},
   "outputs": [],
   "source": [
    "# Called during guru analysis to get data for a specific company and datapoint\n",
    "def get_fundamental(ticker, years_ago, tag, n=1):\n",
    "    data = get_data_tenyr(ticker, tag)\n",
    "    return get_datapoint(data, years_ago, n)"
   ]
  },
  {
   "cell_type": "code",
   "execution_count": 140,
   "metadata": {},
   "outputs": [],
   "source": [
    "# Returns most recent datpoint for specified company and category\n",
    "def get_current_datapoint(ticker, tag):\n",
    "    request_url = f'https://api-v2.intrinio.com/companies/{ticker}/data_point/{tag}/number?api_key={api_key}'\n",
    "    content = requests.get(request_url)\n",
    "    if content is None:\n",
    "        print(\"{} returned none\".format(ticker))\n",
    "    return content.json()"
   ]
  },
  {
   "cell_type": "code",
   "execution_count": 141,
   "metadata": {},
   "outputs": [],
   "source": [
    "# For a list of dates and values, finds the closest entry to the specified date\n",
    "def find_closest(date, data):\n",
    "    if data == []:\n",
    "        return None\n",
    "    previous = data[0]['date']\n",
    "    for item in data:\n",
    "        current = item['date']\n",
    "        if is_later(date, current):\n",
    "            return closer(previous, current, date)\n",
    "        previous = current\n",
    "    return current"
   ]
  },
  {
   "cell_type": "code",
   "execution_count": 142,
   "metadata": {},
   "outputs": [],
   "source": [
    "def ERROR(tag, ticker):\n",
    "    msg = 'No {} data for company: {}'.format(tag, ticker)\n",
    "    return msg"
   ]
  },
  {
   "cell_type": "code",
   "execution_count": 143,
   "metadata": {},
   "outputs": [],
   "source": [
    "# If Intrinio has no data for the company's current net income, cannot run analyses\n",
    "def is_current(ticker, data=None):\n",
    "    if data:\n",
    "        ni = data\n",
    "    else:\n",
    "        ni = get_data_tenyr(ticker, 'netincome')\n",
    "    if not ni:\n",
    "        return False\n",
    "    current_year = datetime.today().year\n",
    "    \n",
    "    last_filing = int(ni[0]['date'][:4])\n",
    "    if last_filing == current_year or last_filing == current_year - 1:\n",
    "        return True\n",
    "    return False\n"
   ]
  },
  {
   "cell_type": "code",
   "execution_count": 144,
   "metadata": {},
   "outputs": [],
   "source": [
    "# Returns date 10 years ago\n",
    "def get_date():\n",
    "    date_yrs_ago = datetime.now() - relativedelta(years=10)\n",
    "    start = date_yrs_ago\n",
    "    return start.strftime('%Y-%m-%d')\n"
   ]
  },
  {
   "cell_type": "code",
   "execution_count": 145,
   "metadata": {},
   "outputs": [],
   "source": [
    "# Given two date strings, convert to datetimes and return whether the first is after the second\n",
    "def is_later(date1, date2, or_equal=False):\n",
    "    datetime1 = datetime.strptime(date1, '%Y-%m-%d')\n",
    "    datetime2 = datetime.strptime(date2, '%Y-%m-%d')\n",
    "    \n",
    "    return date1 > date2 if or_equal is False else date1 >= date2"
   ]
  },
  {
   "cell_type": "code",
   "execution_count": 146,
   "metadata": {},
   "outputs": [],
   "source": [
    "# determines if date1 or date2 is closer to dateTarget\n",
    "def closer(date1, date2, dateTarget):\n",
    "    datetime1      = datetime.strptime(date1, '%Y-%m-%d')\n",
    "    datetime2      = datetime.strptime(date2, '%Y-%m-%d')\n",
    "    datetimeTarget = datetime.strptime(dateTarget, '%Y-%m-%d')\n",
    "    dif1 = abs(datetimeTarget - datetime1)\n",
    "    dif2 = abs(datetimeTarget - datetime2)\n",
    "    \n",
    "   \n",
    "    return date1 if dif1 < dif2 else date2"
   ]
  },
  {
   "cell_type": "code",
   "execution_count": 225,
   "metadata": {},
   "outputs": [],
   "source": [
    "# Function to return Lynch score\n",
    "# Based on criteria found here https://www.nasdaq.com/article/peter-lynch-fair-value-value-companies-with-peter-lynchs-simple-rule-of-thumb-cm154990\n",
    "def lynch_recommends(ticker, years_ago=0):\n",
    "    PEG_threshold = 1.0\n",
    "    \n",
    "\n",
    "    \n",
    "###### Growth Rate #############################################################\n",
    "    \n",
    "    tag = 'netincomegrowth'\n",
    "    ni_growth = get_fundamental(ticker, years_ago, tag)\n",
    "    if ni_growth is None:\n",
    "        return (ERROR(tag, ticker), None)\n",
    "    \n",
    "    if isinstance(ni_growth[0]['value'], str):\n",
    "        growth = 0\n",
    "    else:\n",
    "        growth = ni_growth[0]['value']\n",
    "#         print(\"Growth is \", growth)\n",
    "    \n",
    "    # The date of the quarter used for current_ratio is the date we will use for other datapoints\n",
    "    quarter_date        = ni_growth[0]['date']\n",
    "    \n",
    "    \n",
    "###### PE Ratio ################################################################\n",
    "    \n",
    "    tag = 'pricetoearnings'\n",
    "    ten_yr_pe_ratios = get_data_tenyr(ticker, tag)\n",
    "    \n",
    "    if not is_current(ticker, ten_yr_pe_ratios):\n",
    "        return ERROR('recent_filing', ticker), None\n",
    "\n",
    "    pe_date          = find_closest(quarter_date, ten_yr_pe_ratios)\n",
    "    if pe_date is None:\n",
    "        return (ERROR(tag, ticker), None)\n",
    "    pe_ratio         = [item for item in ten_yr_pe_ratios if item['date'] == pe_date][0]['value']\n",
    "#     print(\"PE is \", pe_ratio)\n",
    "    \n",
    "\n",
    "\n",
    "###### Dividend Rate ############################################################\n",
    "    \n",
    "    tag = 'dividendyield'\n",
    "    ten_yr_dividend_rate = get_data_tenyr(ticker, tag)\n",
    "    dividend_date        = find_closest(quarter_date, ten_yr_dividend_rate)\n",
    "    if dividend_date is None:\n",
    "        return (ERROR(tag, ticker), None)\n",
    "    dividend_rate        = [item for item in ten_yr_dividend_rate if item['date'] == dividend_date][0]['value']\n",
    "#     print(\"Dividend Rate is \", dividend_rate)\n",
    "    \n",
    "###### Calculations #############################################################\n",
    "    # Lynch formula returns 1 if PEG >= 1\n",
    "    if pe_ratio == 'nm':\n",
    "        return 0, quarter_date\n",
    "    appreciation = (growth + dividend_rate) * 100\n",
    "    if appreciation == 0:\n",
    "        return 0, quarter_date\n",
    "    Lynch_ratio = appreciation / pe_ratio\n",
    "    return (Lynch_ratio, quarter_date)\n"
   ]
  },
  {
   "cell_type": "code",
   "execution_count": 148,
   "metadata": {},
   "outputs": [],
   "source": [
    "# Function to return Graham score\n",
    "# Based on criteria found for Enterprising Investors in The Intelligent Investor by Benjamin Graham \n",
    "def graham_recommends(ticker, years_ago=0):\n",
    "    PE_threshold = 15.0\n",
    "    current_ratio_threshold = 1.5\n",
    "    lt_debt_threshold = 1.10\n",
    "    earnings_threshold = 0.0\n",
    "    dividend_threshold = 0.0\n",
    "    earnings_multiple = 1.0\n",
    "    PB_threshold = 1.4\n",
    "    \n",
    "    enterprise_score = 0\n",
    "    \n",
    "###### Financial Condition ###################################################\n",
    "    \n",
    "    tag = 'currentratio'\n",
    "    current_ratio       = get_fundamental(ticker, years_ago, tag)\n",
    "    if current_ratio is None:\n",
    "        return ERROR(tag, ticker), None\n",
    "    \n",
    "    tag = 'nwc'\n",
    "    net_working_capital = get_fundamental(ticker, years_ago, tag)\n",
    "    if net_working_capital is None:\n",
    "        return ERROR(tag, ticker), None\n",
    "    \n",
    "    tag = 'longtermdebt'\n",
    "    longterm_debt       = get_fundamental(ticker, years_ago, tag)\n",
    "    if longterm_debt is None:\n",
    "        return ERROR(tag, ticker), None\n",
    "    \n",
    "    # The date of the quarter used for current_ratio is the date we will use for other datapoints\n",
    "    quarter_date        = current_ratio[0]['date']\n",
    "    \n",
    "    current_ratio       = current_ratio[0]['value']\n",
    "    net_working_capital = net_working_capital[0]['value']\n",
    "    longterm_debt       = longterm_debt[0]['value']\n",
    "    \n",
    "    if current_ratio is None or isinstance(current_ratio, str):\n",
    "        enterprise_score += 0\n",
    "    else:\n",
    "        # Current Ratio should not exceed 1.5\n",
    "        dif = current_ratio_threshold - current_ratio\n",
    "        dif_pct = dif / current_ratio_threshold\n",
    "        enterprise_score += min(1, max(1-dif_pct, 0))\n",
    "    \n",
    "    if longterm_debt is None or isinstance(longterm_debt, str) or net_working_capital is None or isinstance(net_working_capital, str) or net_working_capital == 0:\n",
    "        enterprise_score += 0\n",
    "    else:\n",
    "        # Longterm debt not to exceed net working capital by more than 1.1x\n",
    "        debt_ratio = longterm_debt / net_working_capital\n",
    "        if debt_ratio <= lt_debt_threshold:\n",
    "            enterprise_score += 1\n",
    "        else:\n",
    "            dif = debt_ratio - lt_debt_threshold\n",
    "            dif_pct = dif / lt_debt_threshold\n",
    "            enterprise_score += min(1, max(1-dif_pct, 0))\n",
    "\n",
    "    \n",
    "###### PE Ratio ################################################################\n",
    "\n",
    "    tag = 'pricetoearnings'\n",
    "    ten_yr_pe_ratios = get_data_tenyr(ticker, tag)\n",
    "    \n",
    "    # Making sure data exists currently\n",
    "    if not is_current(ticker, data=ten_yr_pe_ratios):\n",
    "        return ERROR('recent_filing', ticker), None\n",
    "       \n",
    "    pe_date          = find_closest(quarter_date, ten_yr_pe_ratios)\n",
    "    if pe_date is None:\n",
    "        return ERROR(tag, ticker), None\n",
    "    pe_ratio         = [item for item in ten_yr_pe_ratios if item['date'] == pe_date][0]['value']\n",
    "    if pe_ratio is None or isinstance(pe_ratio, str):\n",
    "        enterprise_score += 0\n",
    "    else:\n",
    "        # PE ratio not to exceed 15\n",
    "        dif     = pe_ratio - PE_threshold\n",
    "        dif_pct = dif / PE_threshold\n",
    "        enterprise_score += min(1, max(1-dif_pct, 0))\n",
    "\n",
    "    \n",
    "    \n",
    "    \n",
    "    \n",
    "####### Earnings Stability and Growth ##########################################\n",
    "    \n",
    "    tag = 'netincome'\n",
    "    pos_earnings_years = 0\n",
    "    earnings           = get_fundamental(ticker, years_ago, tag, n=5)\n",
    "    if earnings is None:\n",
    "        return ERROR(tag, ticker), None\n",
    "    \n",
    "    # Stability\n",
    "    # Want to see positive earnings for past 5 years\n",
    "    for item in earnings:\n",
    "        if isinstance(item['value'], str):\n",
    "            continue\n",
    "        if item['value'] > earnings_threshold:\n",
    "            pos_earnings_years += 1\n",
    "    enterprise_score += pos_earnings_years / 5.0\n",
    "    \n",
    "    # Growth\n",
    "    if earnings[0]['value'] is None or isinstance(earnings[0]['value'], str) or earnings[-1]['value'] is None or isinstance(earnings[-1]['value'], str):\n",
    "        enterprise_score += 0\n",
    "    else:\n",
    "        # Current earnings greater than that of the year prior\n",
    "        if earnings[0]['value'] > earnings[-1]['value']:\n",
    "            enterprise_score += 1\n",
    "        \n",
    "    \n",
    "    \n",
    "####### Dividend Record ########################################################\n",
    "    \n",
    "    tag = 'dividendyield'\n",
    "    ten_yr_dividend_rate = get_data_tenyr(ticker, tag)\n",
    "    dividend_date        = find_closest(quarter_date, ten_yr_dividend_rate)\n",
    "    if dividend_date is None:\n",
    "        return ERROR(tag, ticker), None\n",
    "    dividend_rate        = [item for item in ten_yr_dividend_rate if item['date'] == dividend_date][0]['value']\n",
    "    if dividend_rate is None or isinstance(dividend_rate, str):\n",
    "        enterprise_score += 0\n",
    "    else:\n",
    "        # Need to have some current dividend record \n",
    "        if dividend_rate != 0:\n",
    "            enterprise_score += 1\n",
    "\n",
    "####### Price to Book ##########################################################\n",
    "\n",
    "    tag = 'pricetobook'\n",
    "    ten_yr_pb_ratios = get_data_tenyr('AAPL', tag)\n",
    "    pb_date          = find_closest(quarter_date, ten_yr_pb_ratios)\n",
    "    if pb_date is None:\n",
    "        return ERROR(tag, ticker), None\n",
    "    pb_ratio         = [item for item in ten_yr_pb_ratios if item['date'] == pb_date][0]['value']\n",
    "    if pb_ratio is None or isinstance(pb_ratio, str):\n",
    "        enterprise_score += 0\n",
    "    else:\n",
    "        # PB ratio not to exceed 1.5x\n",
    "        dif     = pb_ratio - PB_threshold\n",
    "        dif_pct = dif / PB_threshold\n",
    "        enterprise_score += min(1, max(1-dif_pct, 0))\n",
    "\n",
    "    \n",
    "    return (enterprise_score / 7.0, quarter_date)\n",
    "    "
   ]
  },
  {
   "cell_type": "code",
   "execution_count": 126,
   "metadata": {},
   "outputs": [],
   "source": [
    "# Calculates total return of stock over specified period\n",
    "# Includes growth of market cap as well as payment of dividends\n",
    "def total_return(ticker, years_ago, date):\n",
    "    \n",
    "    # Starting market cap, consistent with when the data was acquired\n",
    "    ten_yr_market_cap   = get_data_tenyr(ticker, 'marketcap')\n",
    "    market_cap_date     = find_closest(date, ten_yr_market_cap)\n",
    "    init_market_cap     = [item for item in ten_yr_market_cap if item['date'] == market_cap_date][0]['value']\n",
    "    \n",
    "    # End market cap\n",
    "    end_market_cap      = ten_yr_market_cap[0]['value']\n",
    "    \n",
    "    # Dividend amounts\n",
    "    tag = 'paymentofdividends'\n",
    "    dividends_yearly    = get_fundamental(ticker, 0, tag, n=years_ago)\n",
    "    \n",
    "    if dividends_yearly is not None:\n",
    "        for item in dividends_yearly:\n",
    "            if item['value'] == 'nm':\n",
    "                item['value'] = 0\n",
    "        dividend_total      = abs(sum([div['value'] for div in dividends_yearly]))\n",
    "    else:\n",
    "        dividend_total = 0\n",
    "        \n",
    "    \n",
    "    # Calculating total return\n",
    "    if init_market_cap == 'nm' or end_market_cap == 'nm':\n",
    "        return None\n",
    "\n",
    "    end_amount   = end_market_cap + dividend_total\n",
    "    total_return = end_amount / init_market_cap - 1\n",
    "    \n",
    "    return total_return\n",
    "    "
   ]
  },
  {
   "cell_type": "code",
   "execution_count": 243,
   "metadata": {},
   "outputs": [],
   "source": [
    "def guru_analysis(guru, years_ago, companies):\n",
    "        \n",
    "    scores  = {'yrs_ago': years_ago, 'data': []}\n",
    "    # Perform lynch analysis\n",
    "    if guru == 'lynch' or guru == 'Lynch':\n",
    "        for ticker in companies:\n",
    "            score, date = lynch_recommends(names[ticker], years_ago)\n",
    "            scores['data'].append((ticker, score, date, names[ticker]))\n",
    "            \n",
    "    # Perform graham analysis\n",
    "    elif guru == 'graham' or guru == 'Graham':\n",
    "        for ticker in names:\n",
    "            score, date = graham_recommends(names[ticker], years_ago)\n",
    "            scores['data'].append((ticker, score, date, names[ticker]))\n",
    "    else:\n",
    "        print('Error: guru must be Lynch or Graham')\n",
    "        return None\n",
    " \n",
    "    scores_valid = [item for item in scores['data'] if isinstance(item[1], int) or isinstance(item[1], float)]\n",
    "    scores_sorted = sorted(scores_valid, key=lambda item: item[1], reverse=True)\n",
    "    scores['sorted'] = scores_sorted\n",
    "\n",
    "    # Return list will include company name, ticker, guru score, and total return\n",
    "    ret = []\n",
    "    for company in scores['sorted']:\n",
    "        tr = total_return(company[-1], years_ago, company[-2])\n",
    "        item = {'ticker': company[-1], 'name': company[0], f'{guru} score': company[1], 'date': company[-2], 'total_return': tr}\n",
    "        ret.append(item)\n",
    "\n",
    "    print(\"Results:\")\n",
    "    print(\"Found data to return results for {} companies\".format(len(ret)))\n",
    "   \n",
    "    return ret\n",
    "    "
   ]
  },
  {
   "cell_type": "code",
   "execution_count": 150,
   "metadata": {},
   "outputs": [],
   "source": [
    "# Retrieves yearly dividend given by company since the given date\n",
    "# Used to calculate total return\n",
    "def get_yearly_dividend(identifier, date):\n",
    "    prices = get_data_tenyr(identifier, 'paymentofdividends', freq='yearly')\n",
    "    start_date = find_closest(date, prices)\n",
    "    relevant_divs = [item for item in prices if is_later(item['date'], date, or_equal=True)]\n",
    "    for item in relevant_divs:\n",
    "        item['year'] = int(item['date'][:4])\n",
    "    div_dict = {}\n",
    "    for item in relevant_divs:\n",
    "        div_dict[item['year']] = abs(item['value'])\n",
    "    return div_dict\n",
    "\n"
   ]
  },
  {
   "cell_type": "code",
   "execution_count": 247,
   "metadata": {},
   "outputs": [],
   "source": [
    "# Returns monthly market cap of a company since the specified date\n",
    "# Used to track total returns over a period of time\n",
    "def get_monthly_prices(identifier, date):\n",
    "    prices = get_data_tenyr(identifier, 'marketcap', freq='monthly')\n",
    "    start_date = find_closest(date, prices)\n",
    "    relevant_prices = [item for item in prices if is_later(item['date'], date, or_equal=True)]\n",
    "    for item in relevant_prices:\n",
    "        item['year'] = int(item['date'][:4])\n",
    "    return relevant_prices"
   ]
  },
  {
   "cell_type": "code",
   "execution_count": 151,
   "metadata": {},
   "outputs": [],
   "source": [
    "# Given a company and date, return the monthly growth rates from the date to the present\n",
    "def monthly_growth(identifier, date):\n",
    "    if identifier[0] == '$':\n",
    "        prices = get_monthly_index_prices(identifier, date)\n",
    "        yearly_divs = sp500_dividend_yields\n",
    "        prices = add_dividends(prices, yearly_divs, index=True)\n",
    "    else:\n",
    "        prices = get_monthly_prices(identifier, date)\n",
    "        yearly_divs = get_yearly_dividend(identifier, date)\n",
    "        # Dividends averaged by month and added back to monthly prices\n",
    "        prices = add_dividends(prices, yearly_divs, index=False)\n",
    "        \n",
    "    growths = []\n",
    "    previous = prices[0]['total_value']\n",
    "    for item in prices:\n",
    "        # Get growth rate by comparing one month's total value to the previous month\n",
    "        if item['value'] is None or item['total_value'] is None or item['value'] == 'nm' or item['total_value'] == 'nm':\n",
    "            return None\n",
    "        growth = item['total_value'] / previous\n",
    "        growths.append({'date': item['date'], 'growth': growth})\n",
    "        previous = item['total_value']\n",
    "    return growths\n"
   ]
  },
  {
   "cell_type": "code",
   "execution_count": 152,
   "metadata": {},
   "outputs": [],
   "source": [
    "def add_dividends(prices, yearly_divs, index=False):\n",
    "    div_year = {}\n",
    "    prices = prices[::-1]\n",
    "    \n",
    "    # Determining which year's dividend to use \n",
    "    for item in prices:\n",
    "        if item['year'] in yearly_divs:\n",
    "            yr = item['year']\n",
    "        elif item['year'] == datetime.now().year:\n",
    "            yr = item['year'] - 1\n",
    "        else:\n",
    "            yr = item['year']\n",
    "            \n",
    "        # div_year is counter of how many times a year's dividend has been added back\n",
    "        if yr not in div_year:\n",
    "            div_year[yr] = 0\n",
    "        div_year[yr] += 1\n",
    "        \n",
    "        if yr not in yearly_divs:\n",
    "            current_div = 0\n",
    "        else:\n",
    "            current_div = yearly_divs[yr]\n",
    "            \n",
    "        if index is True:\n",
    "            # Index dividends are by percentage\n",
    "            if item['value'] is None or item['value'] == 'nm':\n",
    "                item['total_value'] = 'nm'\n",
    "                continue\n",
    "            item['total_value'] = item['value'] + (((current_div / 100) * item['value']) / 12) * div_year[yr]\n",
    "        else:\n",
    "            # Single company dividends are given by amount\n",
    "            if item['value'] is None or item['value'] == 'nm':\n",
    "                item['total_value'] = 'nm'\n",
    "                continue\n",
    "            item['total_value'] = item['value'] + (current_div / 12) * div_year[yr]\n",
    "    \n",
    "    # Cleaning bad data\n",
    "    # If an entry is missing, interpolate as the next entry's value\n",
    "    for index in range(len(prices)-1, -1, -1):\n",
    "        if prices[index]['value'] is None or prices[index]['value'] == 'nm':\n",
    "\n",
    "            try:\n",
    "                prices[index]['value'] = prices[index+1]['value']\n",
    "                prices[index]['total_value'] = prices[index+1]['total_value']\n",
    "            except:\n",
    "                prices[index]['value'] = prices[index-1]['value']\n",
    "                prices[index]['total_value'] = prices[index-1]['total_value']\n",
    "    return prices"
   ]
  },
  {
   "cell_type": "code",
   "execution_count": 153,
   "metadata": {},
   "outputs": [],
   "source": [
    "# Given an intitial investment, return its value month by month if put in investment specified by ticker\n",
    "def growth_of_investment(ticker, date, amount, verbose=True):\n",
    "    original_amount = amount\n",
    "    growths = monthly_growth(ticker, date)\n",
    "    if growths is None:\n",
    "        if verbose:\n",
    "            print('Intrinio did not return enough information for {}'.format(ticker))\n",
    "        return None\n",
    "    monthly_value = []\n",
    "    for item in growths:\n",
    "        amount = amount * item['growth']\n",
    "        monthly_value.append({'date': item['date'], 'value': amount})\n",
    "    if verbose:\n",
    "        print(\"Your investment of {} in {} on {} would be worth {:.2f} today\".format(original_amount, ticker, date, monthly_value[-1]['value']))\n",
    "    return monthly_value\n",
    "    "
   ]
  },
  {
   "cell_type": "code",
   "execution_count": 154,
   "metadata": {},
   "outputs": [],
   "source": [
    "# Given an initial investment, return its value month by month if put into bucket of securities specified by scores\n",
    "def growth_of_bucket(scores, date, amt = 10000, verbose = True):\n",
    "    charts = []\n",
    "    for item in scores:\n",
    "        p = growth_of_investment(item['ticker'], date, amt, verbose=False)\n",
    "        if p:\n",
    "            charts.append(p)\n",
    "    av_mon = statistics.mean([len(chart) for chart in charts])\n",
    "    charts = [item for item in charts if len(item) >= av_mon]\n",
    "    ret = [] \n",
    "    for x in range(len(charts[0])):\n",
    "        values = []\n",
    "        \n",
    "        values = [item[x]['value'] for item in charts]\n",
    "        ret.append({'date': charts[0][x]['date'], 'value': statistics.mean(values)})\n",
    "    if verbose:\n",
    "        print('Your investment of {} in this bucket on {} would be worth {:.2f} today'.format(amt, date, ret[-1]['value']))\n",
    "    return ret"
   ]
  },
  {
   "cell_type": "code",
   "execution_count": 155,
   "metadata": {},
   "outputs": [],
   "source": [
    "# Price of index, month by month\n",
    "def get_monthly_index_prices(identifier, date, freq='monthly'):\n",
    "    request_url = f'https://api-v2.intrinio.com/indices/economic/{identifier}/historical_data/level?api_key={api_key}&frequency={freq}'\n",
    "    prices = requests.get(request_url)\n",
    "    prices = prices.json()['historical_data']    \n",
    "    start_date = find_closest(date, prices)\n",
    "    \n",
    "    relevant_prices = [item for item in prices if is_later(item['date'], date, or_equal=True)]\n",
    "    for item in relevant_prices:\n",
    "        item['year'] = int(item['date'][:4])\n",
    "    return relevant_prices"
   ]
  },
  {
   "cell_type": "code",
   "execution_count": 246,
   "metadata": {},
   "outputs": [],
   "source": [
    "# Uses matplotlib and previous functions to plot the monthly growth of an intial investment in a company, index, or bucket of securities\n",
    "def plot_growth(target, date, index = None, amt=10000, title=None, verbose = True):\n",
    "    if title:\n",
    "        title = title\n",
    "    elif isinstance(target, str):\n",
    "        title = target\n",
    "    else:\n",
    "        title = 'Investment'\n",
    "    years = mdates.YearLocator()   # every year\n",
    "    months = mdates.MonthLocator()  # every month\n",
    "    yearsFmt = mdates.DateFormatter('%Y')\n",
    "    \n",
    "    if isinstance(target, str):\n",
    "        prices = growth_of_investment(target, date, amt, verbose=verbose)\n",
    "    elif isinstance(target, list):\n",
    "        prices = growth_of_bucket(target, date, amt, verbose=verbose)\n",
    "    else:\n",
    "        print('Target should be ticker or list returned by guru_analysis')\n",
    "        return None\n",
    "        \n",
    "    dates_x  = [datetime.strptime(item['date'], '%Y-%m-%d') for item in prices]\n",
    "    prices_y = [item['value'] for item in prices]\n",
    "    \n",
    "    # If index provided, find its growth \n",
    "    if index is not None:\n",
    "        i_prices = growth_of_investment(index, date, amt, verbose=verbose)\n",
    "        i_dates_x  = [datetime.strptime(item['date'], '%Y-%m-%d') for item in i_prices]\n",
    "        i_prices_y = [item['value'] for item in i_prices]\n",
    "    \n",
    "    \n",
    "    \n",
    "    \n",
    "    \n",
    "    # Actual Plotting Here\n",
    "    fig, ax = plt.subplots()\n",
    "    company_line = ax.plot(dates_x, prices_y, label=title)\n",
    "    if index is not None:\n",
    "        index_line   = ax.plot(i_dates_x, i_prices_y, label=index)\n",
    "    ax.legend(fontsize='large')\n",
    "    \n",
    "\n",
    "    fig.set_size_inches(13,10)\n",
    "    ax.set_title(\"Growth of ${:.0f} in {}\".format(prices_y[0], title), fontsize='xx-large')\n",
    "\n",
    "    ax.xaxis.set_major_locator(years)\n",
    "    ax.xaxis.set_major_formatter(yearsFmt)\n",
    "    ax.xaxis.set_minor_locator(months)\n",
    "\n",
    "    ax.grid(True)"
   ]
  },
  {
   "cell_type": "markdown",
   "metadata": {},
   "source": [
    "----------"
   ]
  },
  {
   "cell_type": "markdown",
   "metadata": {},
   "source": [
    "# Performing Guru Analysis, backtested 5 years"
   ]
  },
  {
   "cell_type": "markdown",
   "metadata": {},
   "source": [
    "## Getting list of companies to test"
   ]
  },
  {
   "cell_type": "code",
   "execution_count": 240,
   "metadata": {},
   "outputs": [],
   "source": [
    "    # used when using sandbox api key\n",
    "    companies = get_all_companies()\n",
    "    \n",
    "    # S&P 500 tickers from 2014\n",
    "    # Used when using the production api key\n",
    "#     from sp500_2014 import sp500_2014\n",
    "#     companies = sp500_2014"
   ]
  },
  {
   "cell_type": "markdown",
   "metadata": {},
   "source": [
    "# Computing Graham Scores and Returns for The S&P 500 5 years ago"
   ]
  },
  {
   "cell_type": "code",
   "execution_count": 251,
   "metadata": {},
   "outputs": [],
   "source": [
    "# graham_scores = guru_analysis('graham', 5, companies)\n",
    "# Precomputed scores\n",
    "from SP500_2014_Guru_Results import graham_results as graham_scores"
   ]
  },
  {
   "cell_type": "markdown",
   "metadata": {},
   "source": [
    "### Performance of top 25% of companies will be used to gauge this indicator"
   ]
  },
  {
   "cell_type": "code",
   "execution_count": 252,
   "metadata": {},
   "outputs": [],
   "source": [
    "seventy_fifth_percentile = np.quantile([item['graham score'] for item in graham_scores], .75)\n",
    "graham_good_scores = [item for item in graham_scores if item['graham score'] >= seventy_fifth_percentile]"
   ]
  },
  {
   "cell_type": "markdown",
   "metadata": {},
   "source": [
    "### Analyzing correlation betwen Graham Score and Total Return"
   ]
  },
  {
   "cell_type": "code",
   "execution_count": 253,
   "metadata": {},
   "outputs": [
    {
     "name": "stdout",
     "output_type": "stream",
     "text": [
      "Correlation between Graham score and total return is -0.00240\n"
     ]
    }
   ],
   "source": [
    "graham_valids = [item for item in graham_scores if item['total_return'] is not None]\n",
    "x_values = [item['graham score'] for item in graham_valids]\n",
    "y_values = [item['total_return'] for item in graham_valids]\n",
    "graham_correlation = np.corrcoef(x_values, y_values)[0][1]\n",
    "print(\"Correlation between Graham score and total return is {:.5f}\".format(graham_correlation))"
   ]
  },
  {
   "cell_type": "markdown",
   "metadata": {},
   "source": [
    "--------------------------------------------------------------------------------"
   ]
  },
  {
   "cell_type": "markdown",
   "metadata": {},
   "source": [
    "# Computing Lynch Scores and Returns for The S&P 500 5 years ago"
   ]
  },
  {
   "cell_type": "code",
   "execution_count": 248,
   "metadata": {},
   "outputs": [],
   "source": [
    "# lynch_scores = guru_analysis('lynch', 5, companies)\n",
    "# Precomputed scores\n",
    "from SP500_2014_Guru_Results import lynch_results as lynch_scores"
   ]
  },
  {
   "cell_type": "markdown",
   "metadata": {},
   "source": [
    "### Performance of top 25% of companies will be used to gauge this indicator"
   ]
  },
  {
   "cell_type": "code",
   "execution_count": 249,
   "metadata": {},
   "outputs": [],
   "source": [
    "seventy_fifth_percentile = np.quantile([item['lynch score'] for item in lynch_scores], .75)\n",
    "lynch_good_scores = [item for item in lynch_scores if item['lynch score'] >= seventy_fifth_percentile]"
   ]
  },
  {
   "cell_type": "markdown",
   "metadata": {},
   "source": [
    "### Analyzing correlation betwen Lynch Score and Total Return"
   ]
  },
  {
   "cell_type": "code",
   "execution_count": 250,
   "metadata": {},
   "outputs": [
    {
     "name": "stdout",
     "output_type": "stream",
     "text": [
      "Correlation between Lynch score and total return is -0.04996\n"
     ]
    }
   ],
   "source": [
    "lynch_valids = [item for item in lynch_scores if item['total_return'] is not None]\n",
    "x_values = [item['lynch score'] for item in lynch_valids]\n",
    "y_values = [item['total_return'] for item in lynch_valids]\n",
    "lynch_correlation = np.corrcoef(x_values, y_values)[0][1]\n",
    "print(\"Correlation between Lynch score and total return is {:.5f}\".format(lynch_correlation))"
   ]
  },
  {
   "cell_type": "markdown",
   "metadata": {},
   "source": [
    "-------------------"
   ]
  },
  {
   "cell_type": "markdown",
   "metadata": {},
   "source": [
    "# Performance Analysis\n",
    "## Computing total returns for the top 25% of companies for each analysis, compared to the S&P500 over the same period"
   ]
  },
  {
   "cell_type": "code",
   "execution_count": 256,
   "metadata": {},
   "outputs": [
    {
     "name": "stdout",
     "output_type": "stream",
     "text": [
      "Your investment of 10000 in this bucket on 2014-04-17 would be worth 16630.72 today\n",
      "Your investment of 10000 in $SPX on 2014-04-17 would be worth 15200.99 today\n"
     ]
    },
    {
     "data": {
      "image/png": "[encoded data removed]",
      "text/plain": [
       "<Figure size 936x720 with 1 Axes>"
      ]
     },
     "metadata": {},
     "output_type": "display_data"
    }
   ],
   "source": [
    "plot_growth(graham_good_scores, '2014-04-17', index='$SPX', title='Graham Recommended Companies')"
   ]
  },
  {
   "cell_type": "code",
   "execution_count": 257,
   "metadata": {},
   "outputs": [
    {
     "name": "stdout",
     "output_type": "stream",
     "text": [
      "Your investment of 10000 in this bucket on 2014-04-17 would be worth 14954.57 today\n",
      "Your investment of 10000 in $SPX on 2014-04-17 would be worth 15200.99 today\n"
     ]
    },
    {
     "data": {
      "image/png": "[encoded data removed]",
      "text/plain": [
       "<Figure size 936x720 with 1 Axes>"
      ]
     },
     "metadata": {},
     "output_type": "display_data"
    }
   ],
   "source": [
    "plot_growth(lynch_good_scores, '2014-04-17', index='$SPX', title='Lynch Recommended Companies')"
   ]
  },
  {
   "cell_type": "code",
   "execution_count": null,
   "metadata": {},
   "outputs": [],
   "source": []
  },
  {
   "cell_type": "code",
   "execution_count": null,
   "metadata": {},
   "outputs": [],
   "source": []
  }
 ],
 "metadata": {
  "kernelspec": {
   "display_name": "Python 3",
   "language": "python",
   "name": "python3"
  },
  "language_info": {
   "codemirror_mode": {
    "name": "ipython",
    "version": 3
   },
   "file_extension": ".py",
   "mimetype": "text/x-python",
   "name": "python",
   "nbconvert_exporter": "python",
   "pygments_lexer": "ipython3",
   "version": "3.7.1"
  }
 },
 "nbformat": 4,
 "nbformat_minor": 2
}
